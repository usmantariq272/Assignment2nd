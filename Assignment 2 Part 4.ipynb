{
 "cells": [
  {
   "cell_type": "markdown",
   "id": "23d91d89",
   "metadata": {},
   "source": [
    "**Strings**"
   ]
  },
  {
   "cell_type": "code",
   "execution_count": 1,
   "id": "0c3dd826",
   "metadata": {},
   "outputs": [
    {
     "name": "stdout",
     "output_type": "stream",
     "text": [
      "Hellothere\n"
     ]
    }
   ],
   "source": [
    "str1 = \"Hello\"\n",
    "str2 = 'there'\n",
    "bob = str1 + str2\n",
    "print(bob)"
   ]
  },
  {
   "cell_type": "markdown",
   "id": "c3efacf2",
   "metadata": {},
   "source": [
    "**Looking Inside Strings**"
   ]
  },
  {
   "cell_type": "code",
   "execution_count": 2,
   "id": "e17dff6c",
   "metadata": {},
   "outputs": [
    {
     "name": "stdout",
     "output_type": "stream",
     "text": [
      "a\n",
      "n\n"
     ]
    }
   ],
   "source": [
    "fruit = 'banana'\n",
    "letter = fruit[1]\n",
    "print(letter)\n",
    "\n",
    "x = 3\n",
    "w = fruit[x - 1]\n",
    "print(w)"
   ]
  },
  {
   "cell_type": "markdown",
   "id": "0873d23e",
   "metadata": {},
   "source": [
    "**len Function**"
   ]
  },
  {
   "cell_type": "code",
   "execution_count": 3,
   "id": "7076b4f6",
   "metadata": {},
   "outputs": [
    {
     "name": "stdout",
     "output_type": "stream",
     "text": [
      "6\n"
     ]
    }
   ],
   "source": [
    "fruit = 'banana'\n",
    "x = len(fruit)\n",
    "print(x)"
   ]
  },
  {
   "cell_type": "code",
   "execution_count": 4,
   "id": "962eb2c9",
   "metadata": {},
   "outputs": [
    {
     "name": "stdout",
     "output_type": "stream",
     "text": [
      "0 b\n",
      "1 a\n",
      "2 n\n",
      "3 a\n",
      "4 n\n",
      "5 a\n"
     ]
    }
   ],
   "source": [
    "fruit = 'banana'\n",
    "index = 0\n",
    "while index < len(fruit):\n",
    "    letter = fruit[index]\n",
    "    print(index, letter)\n",
    "    index = index + 1\n"
   ]
  },
  {
   "cell_type": "markdown",
   "id": "accdaf87",
   "metadata": {},
   "source": [
    "**Looping Through Strings**"
   ]
  },
  {
   "cell_type": "code",
   "execution_count": 5,
   "id": "2f9fb89c",
   "metadata": {},
   "outputs": [
    {
     "name": "stdout",
     "output_type": "stream",
     "text": [
      "b\n",
      "a\n",
      "n\n",
      "a\n",
      "n\n",
      "a\n",
      "b\n",
      "a\n",
      "n\n",
      "a\n",
      "n\n",
      "a\n"
     ]
    }
   ],
   "source": [
    "fruit = 'banana'\n",
    "for letter in fruit :\n",
    "    print(letter)\n",
    "index = 0\n",
    "\n",
    "while index < len(fruit) :\n",
    "    letter = fruit[index]\n",
    "    print(letter)\n",
    "    index = index + 1"
   ]
  },
  {
   "cell_type": "markdown",
   "id": "6fcf3258",
   "metadata": {},
   "source": [
    "#**String Concatenation**"
   ]
  },
  {
   "cell_type": "code",
   "execution_count": 6,
   "id": "38a363c5",
   "metadata": {},
   "outputs": [
    {
     "name": "stdout",
     "output_type": "stream",
     "text": [
      "HelloThere\n",
      "Hello There\n"
     ]
    }
   ],
   "source": [
    "a = 'Hello'\n",
    "b = a + 'There'\n",
    "print(b)\n",
    "\n",
    "c = a + ' ' + 'There'\n",
    "print(c)"
   ]
  },
  {
   "cell_type": "markdown",
   "id": "14a3697d",
   "metadata": {},
   "source": [
    "**Using in as a Logical Operator**"
   ]
  },
  {
   "cell_type": "code",
   "execution_count": 8,
   "id": "29c2eda0",
   "metadata": {},
   "outputs": [
    {
     "name": "stdout",
     "output_type": "stream",
     "text": [
      "Found it!\n"
     ]
    }
   ],
   "source": [
    "fruit = 'banana'\n",
    "'n' in fruit\n",
    "\n",
    "'m' in fruit\n",
    "\n",
    "'nan' in fruit\n",
    "\n",
    "if 'a' in fruit :\n",
    "    print('Found it!')"
   ]
  },
  {
   "cell_type": "markdown",
   "id": "508d811c",
   "metadata": {},
   "source": [
    "**Searching a String**"
   ]
  },
  {
   "cell_type": "code",
   "execution_count": 11,
   "id": "2c85e110",
   "metadata": {},
   "outputs": [
    {
     "name": "stdout",
     "output_type": "stream",
     "text": [
      "2\n",
      "-1\n"
     ]
    }
   ],
   "source": [
    "fruit = 'banana'\n",
    "pos = fruit.find('na')\n",
    "print(pos)\n",
    "\n",
    "aa = fruit.find('z')\n",
    "print(aa)\n"
   ]
  },
  {
   "cell_type": "markdown",
   "id": "65558c7e",
   "metadata": {},
   "source": [
    "**Making everything UPPER CASE**"
   ]
  },
  {
   "cell_type": "code",
   "execution_count": 12,
   "id": "00784b06",
   "metadata": {},
   "outputs": [
    {
     "name": "stdout",
     "output_type": "stream",
     "text": [
      "HELLO BOB\n",
      "hello bob\n"
     ]
    }
   ],
   "source": [
    "greet = 'Hello Bob'\n",
    "nnn = greet.upper()\n",
    "print(nnn)\n",
    " \n",
    "www = greet.lower()\n",
    "print(www)"
   ]
  },
  {
   "cell_type": "markdown",
   "id": "d0811597",
   "metadata": {},
   "source": [
    "**Stripping Whitespace**"
   ]
  },
  {
   "cell_type": "code",
   "execution_count": 13,
   "id": "d9210834",
   "metadata": {},
   "outputs": [
    {
     "data": {
      "text/plain": [
       "'Hello Bob'"
      ]
     },
     "execution_count": 13,
     "metadata": {},
     "output_type": "execute_result"
    }
   ],
   "source": [
    "greet = ' Hello Bob '\n",
    "greet.lstrip()\n",
    "\n",
    "greet.rstrip()\n",
    "\n",
    "greet.strip()"
   ]
  },
  {
   "cell_type": "markdown",
   "id": "4cc1ece1",
   "metadata": {},
   "source": [
    "**Parsing and Extracting**"
   ]
  },
  {
   "cell_type": "code",
   "execution_count": 14,
   "id": "b0712ada",
   "metadata": {},
   "outputs": [
    {
     "name": "stdout",
     "output_type": "stream",
     "text": [
      "21\n",
      "31\n",
      "uct.ac.za\n"
     ]
    }
   ],
   "source": [
    "data = 'From stephen.marquard@uct.ac.za Sat Jan 5 09:14:16 2008'\n",
    "atpos = data.find('@')\n",
    "print(atpos)\n",
    "\n",
    "sppos = data.find(' ',atpos)\n",
    "print(sppos)\n",
    "\n",
    "host = data[atpos+1 : sppos]\n",
    "print(host)"
   ]
  },
  {
   "cell_type": "code",
   "execution_count": null,
   "id": "c71cc827",
   "metadata": {},
   "outputs": [],
   "source": []
  }
 ],
 "metadata": {
  "kernelspec": {
   "display_name": "Python 3",
   "language": "python",
   "name": "python3"
  },
  "language_info": {
   "codemirror_mode": {
    "name": "ipython",
    "version": 3
   },
   "file_extension": ".py",
   "mimetype": "text/x-python",
   "name": "python",
   "nbconvert_exporter": "python",
   "pygments_lexer": "ipython3",
   "version": "3.8.8"
  }
 },
 "nbformat": 4,
 "nbformat_minor": 5
}
