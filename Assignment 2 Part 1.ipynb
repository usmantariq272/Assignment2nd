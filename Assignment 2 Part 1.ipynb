{
 "cells": [
  {
   "cell_type": "markdown",
   "id": "86082bed",
   "metadata": {},
   "source": [
    "**Comparison Operators**"
   ]
  },
  {
   "cell_type": "code",
   "execution_count": 4,
   "id": "bc4dfc45",
   "metadata": {},
   "outputs": [
    {
     "name": "stdout",
     "output_type": "stream",
     "text": [
      "Equals 5\n",
      "Greater than 4\n",
      "Greater than or Equals 5\n",
      "Less than 6\n",
      "Less than or Equals 5\n",
      "Not equal 6\n"
     ]
    }
   ],
   "source": [
    "x = 5\n",
    "if x == 5 :\n",
    "    print('Equals 5')\n",
    "if x > 4 :\n",
    "    print('Greater than 4')\n",
    "if x >= 5 :\n",
    "    print('Greater than or Equals 5')\n",
    "if x < 6 : print('Less than 6')\n",
    "if x <= 5 :\n",
    "    print('Less than or Equals 5')\n",
    "if x != 6 :\n",
    "    print('Not equal 6')\n",
    "\n"
   ]
  },
  {
   "cell_type": "markdown",
   "id": "ee822bbb",
   "metadata": {},
   "source": [
    "**Nested Decisions**"
   ]
  },
  {
   "cell_type": "code",
   "execution_count": null,
   "id": "cef25132",
   "metadata": {},
   "outputs": [],
   "source": [
    "x = 42\n",
    "if x > 1 :\n",
    "print('More than one')\n",
    "if x < 100 :\n",
    "print('Less than 100')\n",
    "print('All done')"
   ]
  },
  {
   "cell_type": "markdown",
   "id": "b0cf9786",
   "metadata": {},
   "source": [
    "**Multi-way**"
   ]
  },
  {
   "cell_type": "code",
   "execution_count": 5,
   "id": "da4ff86b",
   "metadata": {},
   "outputs": [
    {
     "name": "stdout",
     "output_type": "stream",
     "text": [
      "small\n",
      "All done\n"
     ]
    }
   ],
   "source": [
    "x = 0\n",
    "if x < 2 :\n",
    "    print('small')\n",
    "elif x < 10 :\n",
    "    print('Medium')\n",
    "else :\n",
    "    print('LARGE')\n",
    "print('All done')"
   ]
  },
  {
   "cell_type": "markdown",
   "id": "2dfdf339",
   "metadata": {},
   "source": [
    "**Multi-way**"
   ]
  },
  {
   "cell_type": "code",
   "execution_count": null,
   "id": "4b260407",
   "metadata": {},
   "outputs": [],
   "source": [
    "x = 20\n",
    "if x < 2 :\n",
    "print('small')\n",
    "elif x < 10 :\n",
    "print('Medium')\n",
    "else :\n",
    "print('LARGE')\n",
    "print('All done')"
   ]
  },
  {
   "cell_type": "markdown",
   "id": "ba6bad1c",
   "metadata": {},
   "source": [
    "**The try / except Structure**"
   ]
  },
  {
   "cell_type": "code",
   "execution_count": 7,
   "id": "ca2b68e4",
   "metadata": {},
   "outputs": [
    {
     "name": "stdout",
     "output_type": "stream",
     "text": [
      "First -1\n",
      "Second 123\n"
     ]
    }
   ],
   "source": [
    "astr = 'Hello Bob'\n",
    "try:\n",
    "    istr = int(astr)\n",
    "except:\n",
    "    istr = -1\n",
    "print('First', istr)\n",
    "astr = '123'\n",
    "try:\n",
    "    istr = int(astr)\n",
    "except:\n",
    "    istr = -1\n",
    "print('Second', istr)\n"
   ]
  },
  {
   "cell_type": "markdown",
   "id": "70d5cf27",
   "metadata": {},
   "source": [
    "**Sample try / except**"
   ]
  },
  {
   "cell_type": "code",
   "execution_count": 10,
   "id": "7e748a76",
   "metadata": {},
   "outputs": [
    {
     "name": "stdout",
     "output_type": "stream",
     "text": [
      "Enter a number:12\n",
      "Nice work\n"
     ]
    }
   ],
   "source": [
    "rawstr = input('Enter a number:')\n",
    "try:\n",
    "    ival = int(rawstr)\n",
    "except:\n",
    "    ival = -1\n",
    "if ival > 0 :\n",
    "    print('Nice work')\n",
    "else:\n",
    "    print('Not a number')"
   ]
  }
 ],
 "metadata": {
  "kernelspec": {
   "display_name": "Python 3",
   "language": "python",
   "name": "python3"
  },
  "language_info": {
   "codemirror_mode": {
    "name": "ipython",
    "version": 3
   },
   "file_extension": ".py",
   "mimetype": "text/x-python",
   "name": "python",
   "nbconvert_exporter": "python",
   "pygments_lexer": "ipython3",
   "version": "3.8.8"
  }
 },
 "nbformat": 4,
 "nbformat_minor": 5
}
