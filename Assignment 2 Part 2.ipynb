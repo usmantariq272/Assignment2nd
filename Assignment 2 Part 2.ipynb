{
 "cells": [
  {
   "cell_type": "markdown",
   "id": "cf1467bc",
   "metadata": {},
   "source": [
    "**Building our Own Functions**"
   ]
  },
  {
   "cell_type": "code",
   "execution_count": 1,
   "id": "62c2194c",
   "metadata": {},
   "outputs": [
    {
     "name": "stdout",
     "output_type": "stream",
     "text": [
      "Hello\n",
      "Yo\n",
      "I'm a lumberjack, and I'm okay.\n",
      "I sleep all night and I work all day.\n",
      "7\n"
     ]
    }
   ],
   "source": [
    "x = 5\n",
    "print('Hello')\n",
    "def print_lyrics():\n",
    "    print(\"I'm a lumberjack, and I'm okay.\")\n",
    "    print('I sleep all night and I work all day.')\n",
    "print('Yo')\n",
    "print_lyrics()\n",
    "x = x + 2\n",
    "print(x)"
   ]
  },
  {
   "cell_type": "markdown",
   "id": "7b75cded",
   "metadata": {},
   "source": [
    "**Arguments and Parameters**"
   ]
  },
  {
   "cell_type": "code",
   "execution_count": 5,
   "id": "0de2ac07",
   "metadata": {},
   "outputs": [
    {
     "name": "stdout",
     "output_type": "stream",
     "text": [
      "Hello\n",
      "Hola\n",
      "Bonjour\n"
     ]
    }
   ],
   "source": [
    "def greet(lang):\n",
    "    if lang == 'es':\n",
    "        print('Hola')\n",
    "    elif lang == 'fr':\n",
    "        print('Bonjour')\n",
    "    else:\n",
    "        print('Hello')\n",
    "\n",
    "greet('en')\n",
    "\n",
    "greet('es')\n",
    "\n",
    "greet('fr')"
   ]
  },
  {
   "cell_type": "markdown",
   "id": "7a4b0d2e",
   "metadata": {},
   "source": [
    "**Return Values**"
   ]
  },
  {
   "cell_type": "code",
   "execution_count": 6,
   "id": "6cc6623e",
   "metadata": {},
   "outputs": [
    {
     "name": "stdout",
     "output_type": "stream",
     "text": [
      "Hello Glenn\n",
      "Hello Sally\n"
     ]
    }
   ],
   "source": [
    "def greet():\n",
    "    return \"Hello\"\n",
    "print(greet(), \"Glenn\")\n",
    "print(greet(), \"Sally\")"
   ]
  },
  {
   "cell_type": "markdown",
   "id": "a63227a2",
   "metadata": {},
   "source": [
    "**Multiple Parameters / Arguments**"
   ]
  },
  {
   "cell_type": "code",
   "execution_count": null,
   "id": "e1486387",
   "metadata": {},
   "outputs": [],
   "source": [
    "def addtwo(a, b):\n",
    "    added = a + b\n",
    "    return added\n",
    "x = addtwo(3, 5)\n",
    "print(x)"
   ]
  },
  {
   "cell_type": "code",
   "execution_count": null,
   "id": "39ecc624",
   "metadata": {},
   "outputs": [],
   "source": []
  }
 ],
 "metadata": {
  "kernelspec": {
   "display_name": "Python 3",
   "language": "python",
   "name": "python3"
  },
  "language_info": {
   "codemirror_mode": {
    "name": "ipython",
    "version": 3
   },
   "file_extension": ".py",
   "mimetype": "text/x-python",
   "name": "python",
   "nbconvert_exporter": "python",
   "pygments_lexer": "ipython3",
   "version": "3.8.8"
  }
 },
 "nbformat": 4,
 "nbformat_minor": 5
}
